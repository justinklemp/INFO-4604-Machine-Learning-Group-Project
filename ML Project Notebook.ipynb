{
 "cells": [
  {
   "cell_type": "markdown",
   "metadata": {},
   "source": [
    "# Kobe Bryant Statistics: INFO 4604 / Applied Machine Learning \n",
    "by: Lucas Bouchard, Harold Chang, Steven Rauthus, Justin Klemplar"
   ]
  },
  {
   "cell_type": "markdown",
   "metadata": {},
   "source": [
    "Summarization: In this notebook, we demonstrate the ability to create a machine learning algorithm that is able to use a dataset containing NBA player Kobe Bryant's career statisics and predict whether a particular action type "
   ]
  },
  {
   "cell_type": "markdown",
   "metadata": {},
   "source": [
    "# Notebook Bookmarks:\n",
    "    \n",
    "    - Go to Top of Notebook\n",
    "    - Go to Clean and EDA\n",
    "    - Go to Feature Selection and Creation\n",
    "    - Go to Train Models"
   ]
  },
  {
   "cell_type": "code",
   "execution_count": 2,
   "metadata": {
    "collapsed": true
   },
   "outputs": [],
   "source": [
    "import numpy as np\n",
    "import pandas as pd\n",
    "import matplotlib.pyplot as plt\n",
    "%matplotlib inline\n",
    "import seaborn as sns"
   ]
  },
  {
   "cell_type": "code",
   "execution_count": 9,
   "metadata": {
    "collapsed": false
   },
   "outputs": [],
   "source": [
    "df = pd.read_csv(\"data.csv\")"
   ]
  },
  {
   "cell_type": "markdown",
   "metadata": {},
   "source": [
    "# Start of Clean and EDA"
   ]
  },
  {
   "cell_type": "code",
   "execution_count": 10,
   "metadata": {
    "collapsed": false
   },
   "outputs": [
    {
     "data": {
      "text/html": [
       "<div>\n",
       "<style scoped>\n",
       "    .dataframe tbody tr th:only-of-type {\n",
       "        vertical-align: middle;\n",
       "    }\n",
       "\n",
       "    .dataframe tbody tr th {\n",
       "        vertical-align: top;\n",
       "    }\n",
       "\n",
       "    .dataframe thead th {\n",
       "        text-align: right;\n",
       "    }\n",
       "</style>\n",
       "<table border=\"1\" class=\"dataframe\">\n",
       "  <thead>\n",
       "    <tr style=\"text-align: right;\">\n",
       "      <th></th>\n",
       "      <th>action_type</th>\n",
       "      <th>combined_shot_type</th>\n",
       "      <th>game_event_id</th>\n",
       "      <th>game_id</th>\n",
       "      <th>lat</th>\n",
       "      <th>loc_x</th>\n",
       "      <th>loc_y</th>\n",
       "      <th>lon</th>\n",
       "      <th>minutes_remaining</th>\n",
       "      <th>period</th>\n",
       "      <th>...</th>\n",
       "      <th>shot_type</th>\n",
       "      <th>shot_zone_area</th>\n",
       "      <th>shot_zone_basic</th>\n",
       "      <th>shot_zone_range</th>\n",
       "      <th>team_id</th>\n",
       "      <th>team_name</th>\n",
       "      <th>game_date</th>\n",
       "      <th>matchup</th>\n",
       "      <th>opponent</th>\n",
       "      <th>shot_id</th>\n",
       "    </tr>\n",
       "  </thead>\n",
       "  <tbody>\n",
       "    <tr>\n",
       "      <th>0</th>\n",
       "      <td>Jump Shot</td>\n",
       "      <td>Jump Shot</td>\n",
       "      <td>10</td>\n",
       "      <td>20000012</td>\n",
       "      <td>33.9723</td>\n",
       "      <td>167</td>\n",
       "      <td>72</td>\n",
       "      <td>-118.1028</td>\n",
       "      <td>10</td>\n",
       "      <td>1</td>\n",
       "      <td>...</td>\n",
       "      <td>2PT Field Goal</td>\n",
       "      <td>Right Side(R)</td>\n",
       "      <td>Mid-Range</td>\n",
       "      <td>16-24 ft.</td>\n",
       "      <td>1610612747</td>\n",
       "      <td>Los Angeles Lakers</td>\n",
       "      <td>2000-10-31</td>\n",
       "      <td>LAL @ POR</td>\n",
       "      <td>POR</td>\n",
       "      <td>1</td>\n",
       "    </tr>\n",
       "    <tr>\n",
       "      <th>1</th>\n",
       "      <td>Jump Shot</td>\n",
       "      <td>Jump Shot</td>\n",
       "      <td>12</td>\n",
       "      <td>20000012</td>\n",
       "      <td>34.0443</td>\n",
       "      <td>-157</td>\n",
       "      <td>0</td>\n",
       "      <td>-118.4268</td>\n",
       "      <td>10</td>\n",
       "      <td>1</td>\n",
       "      <td>...</td>\n",
       "      <td>2PT Field Goal</td>\n",
       "      <td>Left Side(L)</td>\n",
       "      <td>Mid-Range</td>\n",
       "      <td>8-16 ft.</td>\n",
       "      <td>1610612747</td>\n",
       "      <td>Los Angeles Lakers</td>\n",
       "      <td>2000-10-31</td>\n",
       "      <td>LAL @ POR</td>\n",
       "      <td>POR</td>\n",
       "      <td>2</td>\n",
       "    </tr>\n",
       "    <tr>\n",
       "      <th>2</th>\n",
       "      <td>Jump Shot</td>\n",
       "      <td>Jump Shot</td>\n",
       "      <td>35</td>\n",
       "      <td>20000012</td>\n",
       "      <td>33.9093</td>\n",
       "      <td>-101</td>\n",
       "      <td>135</td>\n",
       "      <td>-118.3708</td>\n",
       "      <td>7</td>\n",
       "      <td>1</td>\n",
       "      <td>...</td>\n",
       "      <td>2PT Field Goal</td>\n",
       "      <td>Left Side Center(LC)</td>\n",
       "      <td>Mid-Range</td>\n",
       "      <td>16-24 ft.</td>\n",
       "      <td>1610612747</td>\n",
       "      <td>Los Angeles Lakers</td>\n",
       "      <td>2000-10-31</td>\n",
       "      <td>LAL @ POR</td>\n",
       "      <td>POR</td>\n",
       "      <td>3</td>\n",
       "    </tr>\n",
       "    <tr>\n",
       "      <th>3</th>\n",
       "      <td>Jump Shot</td>\n",
       "      <td>Jump Shot</td>\n",
       "      <td>43</td>\n",
       "      <td>20000012</td>\n",
       "      <td>33.8693</td>\n",
       "      <td>138</td>\n",
       "      <td>175</td>\n",
       "      <td>-118.1318</td>\n",
       "      <td>6</td>\n",
       "      <td>1</td>\n",
       "      <td>...</td>\n",
       "      <td>2PT Field Goal</td>\n",
       "      <td>Right Side Center(RC)</td>\n",
       "      <td>Mid-Range</td>\n",
       "      <td>16-24 ft.</td>\n",
       "      <td>1610612747</td>\n",
       "      <td>Los Angeles Lakers</td>\n",
       "      <td>2000-10-31</td>\n",
       "      <td>LAL @ POR</td>\n",
       "      <td>POR</td>\n",
       "      <td>4</td>\n",
       "    </tr>\n",
       "    <tr>\n",
       "      <th>4</th>\n",
       "      <td>Driving Dunk Shot</td>\n",
       "      <td>Dunk</td>\n",
       "      <td>155</td>\n",
       "      <td>20000012</td>\n",
       "      <td>34.0443</td>\n",
       "      <td>0</td>\n",
       "      <td>0</td>\n",
       "      <td>-118.2698</td>\n",
       "      <td>6</td>\n",
       "      <td>2</td>\n",
       "      <td>...</td>\n",
       "      <td>2PT Field Goal</td>\n",
       "      <td>Center(C)</td>\n",
       "      <td>Restricted Area</td>\n",
       "      <td>Less Than 8 ft.</td>\n",
       "      <td>1610612747</td>\n",
       "      <td>Los Angeles Lakers</td>\n",
       "      <td>2000-10-31</td>\n",
       "      <td>LAL @ POR</td>\n",
       "      <td>POR</td>\n",
       "      <td>5</td>\n",
       "    </tr>\n",
       "  </tbody>\n",
       "</table>\n",
       "<p>5 rows × 25 columns</p>\n",
       "</div>"
      ],
      "text/plain": [
       "         action_type combined_shot_type  game_event_id   game_id      lat  \\\n",
       "0          Jump Shot          Jump Shot             10  20000012  33.9723   \n",
       "1          Jump Shot          Jump Shot             12  20000012  34.0443   \n",
       "2          Jump Shot          Jump Shot             35  20000012  33.9093   \n",
       "3          Jump Shot          Jump Shot             43  20000012  33.8693   \n",
       "4  Driving Dunk Shot               Dunk            155  20000012  34.0443   \n",
       "\n",
       "   loc_x  loc_y       lon  minutes_remaining  period   ...          shot_type  \\\n",
       "0    167     72 -118.1028                 10       1   ...     2PT Field Goal   \n",
       "1   -157      0 -118.4268                 10       1   ...     2PT Field Goal   \n",
       "2   -101    135 -118.3708                  7       1   ...     2PT Field Goal   \n",
       "3    138    175 -118.1318                  6       1   ...     2PT Field Goal   \n",
       "4      0      0 -118.2698                  6       2   ...     2PT Field Goal   \n",
       "\n",
       "          shot_zone_area  shot_zone_basic  shot_zone_range     team_id  \\\n",
       "0          Right Side(R)        Mid-Range        16-24 ft.  1610612747   \n",
       "1           Left Side(L)        Mid-Range         8-16 ft.  1610612747   \n",
       "2   Left Side Center(LC)        Mid-Range        16-24 ft.  1610612747   \n",
       "3  Right Side Center(RC)        Mid-Range        16-24 ft.  1610612747   \n",
       "4              Center(C)  Restricted Area  Less Than 8 ft.  1610612747   \n",
       "\n",
       "            team_name   game_date    matchup opponent  shot_id  \n",
       "0  Los Angeles Lakers  2000-10-31  LAL @ POR      POR        1  \n",
       "1  Los Angeles Lakers  2000-10-31  LAL @ POR      POR        2  \n",
       "2  Los Angeles Lakers  2000-10-31  LAL @ POR      POR        3  \n",
       "3  Los Angeles Lakers  2000-10-31  LAL @ POR      POR        4  \n",
       "4  Los Angeles Lakers  2000-10-31  LAL @ POR      POR        5  \n",
       "\n",
       "[5 rows x 25 columns]"
      ]
     },
     "execution_count": 10,
     "metadata": {},
     "output_type": "execute_result"
    }
   ],
   "source": [
    "df.head()"
   ]
  },
  {
   "cell_type": "code",
   "execution_count": 13,
   "metadata": {
    "collapsed": true
   },
   "outputs": [
    {
     "data": {
      "text/plain": [
       "Jump Shot                             18880\n",
       "Layup Shot                             2567\n",
       "Driving Layup Shot                     1978\n",
       "Turnaround Jump Shot                   1057\n",
       "Fadeaway Jump Shot                     1048\n",
       "Running Jump Shot                       926\n",
       "Pullup Jump shot                        476\n",
       "Turnaround Fadeaway shot                439\n",
       "Slam Dunk Shot                          411\n",
       "Reverse Layup Shot                      395\n",
       "Jump Bank Shot                          333\n",
       "Driving Dunk Shot                       310\n",
       "Dunk Shot                               262\n",
       "Tip Shot                                182\n",
       "Alley Oop Dunk Shot                     122\n",
       "Step Back Jump shot                     118\n",
       "Floating Jump shot                      114\n",
       "Driving Reverse Layup Shot               97\n",
       "Hook Shot                                84\n",
       "Driving Finger Roll Shot                 82\n",
       "Alley Oop Layup shot                     80\n",
       "Reverse Dunk Shot                        75\n",
       "Running Layup Shot                       72\n",
       "Turnaround Bank shot                     71\n",
       "Driving Finger Roll Layup Shot           69\n",
       "Driving Slam Dunk Shot                   48\n",
       "Running Bank shot                        48\n",
       "Running Hook Shot                        41\n",
       "Finger Roll Layup Shot                   33\n",
       "Fadeaway Bank shot                       31\n",
       "Finger Roll Shot                         28\n",
       "Driving Jump shot                        28\n",
       "Jump Hook Shot                           24\n",
       "Running Dunk Shot                        19\n",
       "Reverse Slam Dunk Shot                   16\n",
       "Putback Layup Shot                       15\n",
       "Follow Up Dunk Shot                      15\n",
       "Turnaround Hook Shot                     14\n",
       "Driving Hook Shot                        14\n",
       "Pullup Bank shot                         12\n",
       "Running Reverse Layup Shot               11\n",
       "Running Finger Roll Layup Shot            6\n",
       "Cutting Layup Shot                        6\n",
       "Putback Dunk Shot                         5\n",
       "Driving Floating Jump Shot                5\n",
       "Driving Bank shot                         5\n",
       "Hook Bank Shot                            5\n",
       "Running Finger Roll Shot                  4\n",
       "Running Pull-Up Jump Shot                 4\n",
       "Turnaround Finger Roll Shot               2\n",
       "Running Tip Shot                          2\n",
       "Putback Slam Dunk Shot                    2\n",
       "Tip Layup Shot                            2\n",
       "Turnaround Fadeaway Bank Jump Shot        1\n",
       "Running Slam Dunk Shot                    1\n",
       "Cutting Finger Roll Layup Shot            1\n",
       "Driving Floating Bank Jump Shot           1\n",
       "Name: action_type, dtype: int64"
      ]
     },
     "execution_count": 13,
     "metadata": {},
     "output_type": "execute_result"
    }
   ],
   "source": [
    "df.action_type.value_counts()"
   ]
  },
  {
   "cell_type": "markdown",
   "metadata": {},
   "source": [
    "# There are too many action types with few occurances. Here we filtered out Kobe Bryant's 20 most common action types and placed the other ones under the category \"other.\"\n"
   ]
  },
  {
   "cell_type": "code",
   "execution_count": 15,
   "metadata": {
    "collapsed": false
   },
   "outputs": [
    {
     "data": {
      "text/plain": [
       "Jump Shot                     18880\n",
       "Layup Shot                     2567\n",
       "Driving Layup Shot             1978\n",
       "Turnaround Jump Shot           1057\n",
       "Fadeaway Jump Shot             1048\n",
       "Running Jump Shot               926\n",
       "other                           816\n",
       "Pullup Jump shot                476\n",
       "Turnaround Fadeaway shot        439\n",
       "Slam Dunk Shot                  411\n",
       "Reverse Layup Shot              395\n",
       "Jump Bank Shot                  333\n",
       "Driving Dunk Shot               310\n",
       "Dunk Shot                       262\n",
       "Tip Shot                        182\n",
       "Alley Oop Dunk Shot             122\n",
       "Step Back Jump shot             118\n",
       "Floating Jump shot              114\n",
       "Driving Reverse Layup Shot       97\n",
       "Hook Shot                        84\n",
       "Other                            82\n",
       "Name: action_type, dtype: int64"
      ]
     },
     "execution_count": 15,
     "metadata": {},
     "output_type": "execute_result"
    }
   ],
   "source": [
    "most_common_action_types = df['action_type'].value_counts()[20:]\n",
    "common_types = most_common_action_types.index.values\n",
    "\n",
    "df.loc[df['action_type'].isin(common_types), 'action_type'] = 'Other'\n",
    "df['action_type'].value_counts()"
   ]
  },
  {
   "cell_type": "code",
   "execution_count": 18,
   "metadata": {
    "collapsed": false
   },
   "outputs": [
    {
     "data": {
      "text/plain": [
       "3    8296\n",
       "1    8048\n",
       "4    7260\n",
       "2    6718\n",
       "5     330\n",
       "6      38\n",
       "7       7\n",
       "Name: period, dtype: int64"
      ]
     },
     "execution_count": 18,
     "metadata": {},
     "output_type": "execute_result"
    }
   ],
   "source": [
    "df['period'].value_counts()"
   ]
  },
  {
   "cell_type": "markdown",
   "metadata": {},
   "source": [
    "We then combined periods 5-7 into a single category \"overtime\""
   ]
  },
  {
   "cell_type": "code",
   "execution_count": 19,
   "metadata": {
    "collapsed": false
   },
   "outputs": [
    {
     "data": {
      "text/plain": [
       "3           8296\n",
       "1           8048\n",
       "4           7260\n",
       "2           6718\n",
       "overtime     375\n",
       "Name: period, dtype: int64"
      ]
     },
     "execution_count": 19,
     "metadata": {},
     "output_type": "execute_result"
    }
   ],
   "source": [
    "overtime = np.array([5, 6, 7])\n",
    "df.loc[df['period'].isin(overtime), 'period'] = 'overtime'\n",
    "df['period'].value_counts()"
   ]
  },
  {
   "cell_type": "code",
   "execution_count": 21,
   "metadata": {
    "collapsed": false
   },
   "outputs": [
    {
     "data": {
      "text/plain": [
       "action_type            object\n",
       "combined_shot_type     object\n",
       "game_event_id           int64\n",
       "game_id                 int64\n",
       "lat                   float64\n",
       "loc_x                   int64\n",
       "loc_y                   int64\n",
       "lon                   float64\n",
       "minutes_remaining       int64\n",
       "period                 object\n",
       "playoffs                int64\n",
       "season                 object\n",
       "seconds_remaining       int64\n",
       "shot_distance           int64\n",
       "shot_made_flag        float64\n",
       "shot_type              object\n",
       "shot_zone_area         object\n",
       "shot_zone_basic        object\n",
       "shot_zone_range        object\n",
       "team_id                 int64\n",
       "team_name              object\n",
       "game_date              object\n",
       "matchup                object\n",
       "opponent               object\n",
       "shot_id                 int64\n",
       "dtype: object"
      ]
     },
     "execution_count": 21,
     "metadata": {},
     "output_type": "execute_result"
    }
   ],
   "source": [
    "df.dtypes"
   ]
  },
  {
   "cell_type": "markdown",
   "metadata": {},
   "source": [
    "# Here we set an index and converted some of the data types to \"category\" for better summmerization purposes"
   ]
  },
  {
   "cell_type": "code",
   "execution_count": 22,
   "metadata": {
    "collapsed": true
   },
   "outputs": [],
   "source": [
    "df.set_index('shot_id', inplace=True)\n",
    "df[\"action_type\"] = df[\"action_type\"].astype('object')\n",
    "df[\"combined_shot_type\"] = df[\"combined_shot_type\"].astype('category')\n",
    "df[\"game_event_id\"] = df[\"game_event_id\"].astype('category')\n",
    "df[\"game_id\"] = df[\"game_id\"].astype('category')\n",
    "df[\"period\"] = df[\"period\"].astype('object')\n",
    "df[\"playoffs\"] = df[\"playoffs\"].astype('category')\n",
    "df[\"season\"] = df[\"season\"].astype('category')\n",
    "df[\"shot_made_flag\"] = df[\"shot_made_flag\"].astype('category')\n",
    "df[\"shot_type\"] = df[\"shot_type\"].astype('category')\n",
    "df[\"team_id\"] = df[\"team_id\"].astype('category')"
   ]
  },
  {
   "cell_type": "code",
   "execution_count": 25,
   "metadata": {
    "collapsed": false
   },
   "outputs": [
    {
     "data": {
      "text/html": [
       "<div>\n",
       "<style scoped>\n",
       "    .dataframe tbody tr th:only-of-type {\n",
       "        vertical-align: middle;\n",
       "    }\n",
       "\n",
       "    .dataframe tbody tr th {\n",
       "        vertical-align: top;\n",
       "    }\n",
       "\n",
       "    .dataframe thead th {\n",
       "        text-align: right;\n",
       "    }\n",
       "</style>\n",
       "<table border=\"1\" class=\"dataframe\">\n",
       "  <thead>\n",
       "    <tr style=\"text-align: right;\">\n",
       "      <th></th>\n",
       "      <th>action_type</th>\n",
       "      <th>combined_shot_type</th>\n",
       "      <th>game_event_id</th>\n",
       "      <th>game_id</th>\n",
       "      <th>lat</th>\n",
       "      <th>loc_x</th>\n",
       "      <th>loc_y</th>\n",
       "      <th>lon</th>\n",
       "      <th>minutes_remaining</th>\n",
       "      <th>period</th>\n",
       "      <th>...</th>\n",
       "      <th>shot_made_flag</th>\n",
       "      <th>shot_type</th>\n",
       "      <th>shot_zone_area</th>\n",
       "      <th>shot_zone_basic</th>\n",
       "      <th>shot_zone_range</th>\n",
       "      <th>team_id</th>\n",
       "      <th>team_name</th>\n",
       "      <th>game_date</th>\n",
       "      <th>matchup</th>\n",
       "      <th>opponent</th>\n",
       "    </tr>\n",
       "    <tr>\n",
       "      <th>shot_id</th>\n",
       "      <th></th>\n",
       "      <th></th>\n",
       "      <th></th>\n",
       "      <th></th>\n",
       "      <th></th>\n",
       "      <th></th>\n",
       "      <th></th>\n",
       "      <th></th>\n",
       "      <th></th>\n",
       "      <th></th>\n",
       "      <th></th>\n",
       "      <th></th>\n",
       "      <th></th>\n",
       "      <th></th>\n",
       "      <th></th>\n",
       "      <th></th>\n",
       "      <th></th>\n",
       "      <th></th>\n",
       "      <th></th>\n",
       "      <th></th>\n",
       "      <th></th>\n",
       "    </tr>\n",
       "  </thead>\n",
       "  <tbody>\n",
       "    <tr>\n",
       "      <th>1</th>\n",
       "      <td>Jump Shot</td>\n",
       "      <td>Jump Shot</td>\n",
       "      <td>10</td>\n",
       "      <td>20000012</td>\n",
       "      <td>33.9723</td>\n",
       "      <td>167</td>\n",
       "      <td>72</td>\n",
       "      <td>-118.1028</td>\n",
       "      <td>10</td>\n",
       "      <td>1</td>\n",
       "      <td>...</td>\n",
       "      <td>NaN</td>\n",
       "      <td>2PT Field Goal</td>\n",
       "      <td>Right Side(R)</td>\n",
       "      <td>Mid-Range</td>\n",
       "      <td>16-24 ft.</td>\n",
       "      <td>1610612747</td>\n",
       "      <td>Los Angeles Lakers</td>\n",
       "      <td>2000-10-31</td>\n",
       "      <td>LAL @ POR</td>\n",
       "      <td>POR</td>\n",
       "    </tr>\n",
       "  </tbody>\n",
       "</table>\n",
       "<p>1 rows × 24 columns</p>\n",
       "</div>"
      ],
      "text/plain": [
       "        action_type combined_shot_type game_event_id   game_id      lat  \\\n",
       "shot_id                                                                   \n",
       "1         Jump Shot          Jump Shot            10  20000012  33.9723   \n",
       "\n",
       "         loc_x  loc_y       lon  minutes_remaining period   ...     \\\n",
       "shot_id                                                     ...      \n",
       "1          167     72 -118.1028                 10      1   ...      \n",
       "\n",
       "        shot_made_flag       shot_type  shot_zone_area  shot_zone_basic  \\\n",
       "shot_id                                                                   \n",
       "1                  NaN  2PT Field Goal   Right Side(R)        Mid-Range   \n",
       "\n",
       "        shot_zone_range     team_id           team_name   game_date  \\\n",
       "shot_id                                                               \n",
       "1             16-24 ft.  1610612747  Los Angeles Lakers  2000-10-31   \n",
       "\n",
       "           matchup opponent  \n",
       "shot_id                      \n",
       "1        LAL @ POR      POR  \n",
       "\n",
       "[1 rows x 24 columns]"
      ]
     },
     "execution_count": 25,
     "metadata": {},
     "output_type": "execute_result"
    }
   ],
   "source": [
    "df.head(1)"
   ]
  },
  {
   "cell_type": "code",
   "execution_count": 26,
   "metadata": {
    "collapsed": false
   },
   "outputs": [
    {
     "data": {
      "text/plain": [
       "action_type             object\n",
       "combined_shot_type    category\n",
       "game_event_id         category\n",
       "game_id               category\n",
       "lat                    float64\n",
       "loc_x                    int64\n",
       "loc_y                    int64\n",
       "lon                    float64\n",
       "minutes_remaining        int64\n",
       "period                  object\n",
       "playoffs              category\n",
       "season                category\n",
       "seconds_remaining        int64\n",
       "shot_distance            int64\n",
       "shot_made_flag        category\n",
       "shot_type             category\n",
       "shot_zone_area          object\n",
       "shot_zone_basic         object\n",
       "shot_zone_range         object\n",
       "team_id               category\n",
       "team_name               object\n",
       "game_date               object\n",
       "matchup                 object\n",
       "opponent                object\n",
       "dtype: object"
      ]
     },
     "execution_count": 26,
     "metadata": {},
     "output_type": "execute_result"
    }
   ],
   "source": [
    "df.dtypes"
   ]
  },
  {
   "cell_type": "markdown",
   "metadata": {},
   "source": [
    "# Here we looked at a few descriptive statisitics"
   ]
  },
  {
   "cell_type": "code",
   "execution_count": 28,
   "metadata": {
    "collapsed": false
   },
   "outputs": [
    {
     "data": {
      "text/plain": [
       "(30697, 24)"
      ]
     },
     "execution_count": 28,
     "metadata": {},
     "output_type": "execute_result"
    }
   ],
   "source": [
    "df.shape"
   ]
  },
  {
   "cell_type": "code",
   "execution_count": 27,
   "metadata": {
    "collapsed": false
   },
   "outputs": [
    {
     "data": {
      "text/html": [
       "<div>\n",
       "<style scoped>\n",
       "    .dataframe tbody tr th:only-of-type {\n",
       "        vertical-align: middle;\n",
       "    }\n",
       "\n",
       "    .dataframe tbody tr th {\n",
       "        vertical-align: top;\n",
       "    }\n",
       "\n",
       "    .dataframe thead th {\n",
       "        text-align: right;\n",
       "    }\n",
       "</style>\n",
       "<table border=\"1\" class=\"dataframe\">\n",
       "  <thead>\n",
       "    <tr style=\"text-align: right;\">\n",
       "      <th></th>\n",
       "      <th>action_type</th>\n",
       "      <th>combined_shot_type</th>\n",
       "      <th>game_event_id</th>\n",
       "      <th>game_id</th>\n",
       "      <th>period</th>\n",
       "      <th>playoffs</th>\n",
       "      <th>season</th>\n",
       "      <th>shot_made_flag</th>\n",
       "      <th>shot_type</th>\n",
       "      <th>shot_zone_area</th>\n",
       "      <th>shot_zone_basic</th>\n",
       "      <th>shot_zone_range</th>\n",
       "      <th>team_id</th>\n",
       "      <th>team_name</th>\n",
       "      <th>game_date</th>\n",
       "      <th>matchup</th>\n",
       "      <th>opponent</th>\n",
       "    </tr>\n",
       "  </thead>\n",
       "  <tbody>\n",
       "    <tr>\n",
       "      <th>count</th>\n",
       "      <td>30697</td>\n",
       "      <td>30697</td>\n",
       "      <td>30697</td>\n",
       "      <td>30697</td>\n",
       "      <td>30697</td>\n",
       "      <td>30697</td>\n",
       "      <td>30697</td>\n",
       "      <td>25697.0</td>\n",
       "      <td>30697</td>\n",
       "      <td>30697</td>\n",
       "      <td>30697</td>\n",
       "      <td>30697</td>\n",
       "      <td>30697</td>\n",
       "      <td>30697</td>\n",
       "      <td>30697</td>\n",
       "      <td>30697</td>\n",
       "      <td>30697</td>\n",
       "    </tr>\n",
       "    <tr>\n",
       "      <th>unique</th>\n",
       "      <td>21</td>\n",
       "      <td>6</td>\n",
       "      <td>620</td>\n",
       "      <td>1559</td>\n",
       "      <td>5</td>\n",
       "      <td>2</td>\n",
       "      <td>20</td>\n",
       "      <td>2.0</td>\n",
       "      <td>2</td>\n",
       "      <td>6</td>\n",
       "      <td>7</td>\n",
       "      <td>5</td>\n",
       "      <td>1</td>\n",
       "      <td>1</td>\n",
       "      <td>1559</td>\n",
       "      <td>74</td>\n",
       "      <td>33</td>\n",
       "    </tr>\n",
       "    <tr>\n",
       "      <th>top</th>\n",
       "      <td>Jump Shot</td>\n",
       "      <td>Jump Shot</td>\n",
       "      <td>2</td>\n",
       "      <td>21501228</td>\n",
       "      <td>3</td>\n",
       "      <td>0</td>\n",
       "      <td>2005-06</td>\n",
       "      <td>0.0</td>\n",
       "      <td>2PT Field Goal</td>\n",
       "      <td>Center(C)</td>\n",
       "      <td>Mid-Range</td>\n",
       "      <td>Less Than 8 ft.</td>\n",
       "      <td>1610612747</td>\n",
       "      <td>Los Angeles Lakers</td>\n",
       "      <td>2016-04-13</td>\n",
       "      <td>LAL @ SAS</td>\n",
       "      <td>SAS</td>\n",
       "    </tr>\n",
       "    <tr>\n",
       "      <th>freq</th>\n",
       "      <td>18880</td>\n",
       "      <td>23485</td>\n",
       "      <td>132</td>\n",
       "      <td>50</td>\n",
       "      <td>8296</td>\n",
       "      <td>26198</td>\n",
       "      <td>2318</td>\n",
       "      <td>14232.0</td>\n",
       "      <td>24271</td>\n",
       "      <td>13455</td>\n",
       "      <td>12625</td>\n",
       "      <td>9398</td>\n",
       "      <td>30697</td>\n",
       "      <td>30697</td>\n",
       "      <td>50</td>\n",
       "      <td>1020</td>\n",
       "      <td>1978</td>\n",
       "    </tr>\n",
       "  </tbody>\n",
       "</table>\n",
       "</div>"
      ],
      "text/plain": [
       "       action_type combined_shot_type  game_event_id   game_id  period  \\\n",
       "count        30697              30697          30697     30697   30697   \n",
       "unique          21                  6            620      1559       5   \n",
       "top      Jump Shot          Jump Shot              2  21501228       3   \n",
       "freq         18880              23485            132        50    8296   \n",
       "\n",
       "        playoffs   season  shot_made_flag       shot_type shot_zone_area  \\\n",
       "count      30697    30697         25697.0           30697          30697   \n",
       "unique         2       20             2.0               2              6   \n",
       "top            0  2005-06             0.0  2PT Field Goal      Center(C)   \n",
       "freq       26198     2318         14232.0           24271          13455   \n",
       "\n",
       "       shot_zone_basic  shot_zone_range     team_id           team_name  \\\n",
       "count            30697            30697       30697               30697   \n",
       "unique               7                5           1                   1   \n",
       "top          Mid-Range  Less Than 8 ft.  1610612747  Los Angeles Lakers   \n",
       "freq             12625             9398       30697               30697   \n",
       "\n",
       "         game_date    matchup opponent  \n",
       "count        30697      30697    30697  \n",
       "unique        1559         74       33  \n",
       "top     2016-04-13  LAL @ SAS      SAS  \n",
       "freq            50       1020     1978  "
      ]
     },
     "execution_count": 27,
     "metadata": {},
     "output_type": "execute_result"
    }
   ],
   "source": [
    "#Categorical Columns\n",
    "df.describe(include=['object', 'category'])"
   ]
  },
  {
   "cell_type": "code",
   "execution_count": 30,
   "metadata": {
    "collapsed": false
   },
   "outputs": [
    {
     "data": {
      "text/html": [
       "<div>\n",
       "<style scoped>\n",
       "    .dataframe tbody tr th:only-of-type {\n",
       "        vertical-align: middle;\n",
       "    }\n",
       "\n",
       "    .dataframe tbody tr th {\n",
       "        vertical-align: top;\n",
       "    }\n",
       "\n",
       "    .dataframe thead th {\n",
       "        text-align: right;\n",
       "    }\n",
       "</style>\n",
       "<table border=\"1\" class=\"dataframe\">\n",
       "  <thead>\n",
       "    <tr style=\"text-align: right;\">\n",
       "      <th></th>\n",
       "      <th>lat</th>\n",
       "      <th>loc_x</th>\n",
       "      <th>loc_y</th>\n",
       "      <th>lon</th>\n",
       "      <th>minutes_remaining</th>\n",
       "      <th>seconds_remaining</th>\n",
       "      <th>shot_distance</th>\n",
       "    </tr>\n",
       "  </thead>\n",
       "  <tbody>\n",
       "    <tr>\n",
       "      <th>mean</th>\n",
       "      <td>33.953192</td>\n",
       "      <td>7.110499</td>\n",
       "      <td>91.107535</td>\n",
       "      <td>-118.26269</td>\n",
       "      <td>4.885624</td>\n",
       "      <td>28.365085</td>\n",
       "      <td>13.437437</td>\n",
       "    </tr>\n",
       "    <tr>\n",
       "      <th>min</th>\n",
       "      <td>33.253300</td>\n",
       "      <td>-250.000000</td>\n",
       "      <td>-44.000000</td>\n",
       "      <td>-118.51980</td>\n",
       "      <td>0.000000</td>\n",
       "      <td>0.000000</td>\n",
       "      <td>0.000000</td>\n",
       "    </tr>\n",
       "    <tr>\n",
       "      <th>max</th>\n",
       "      <td>34.088300</td>\n",
       "      <td>248.000000</td>\n",
       "      <td>791.000000</td>\n",
       "      <td>-118.02180</td>\n",
       "      <td>11.000000</td>\n",
       "      <td>59.000000</td>\n",
       "      <td>79.000000</td>\n",
       "    </tr>\n",
       "  </tbody>\n",
       "</table>\n",
       "</div>"
      ],
      "text/plain": [
       "            lat       loc_x       loc_y        lon  minutes_remaining  \\\n",
       "mean  33.953192    7.110499   91.107535 -118.26269           4.885624   \n",
       "min   33.253300 -250.000000  -44.000000 -118.51980           0.000000   \n",
       "max   34.088300  248.000000  791.000000 -118.02180          11.000000   \n",
       "\n",
       "      seconds_remaining  shot_distance  \n",
       "mean          28.365085      13.437437  \n",
       "min            0.000000       0.000000  \n",
       "max           59.000000      79.000000  "
      ]
     },
     "execution_count": 30,
     "metadata": {},
     "output_type": "execute_result"
    }
   ],
   "source": [
    "#Numerical Columns\n",
    "df.describe(include=['number']).loc[[\"mean\",\"min\",\"max\"]]"
   ]
  },
  {
   "cell_type": "markdown",
   "metadata": {
    "collapsed": true
   },
   "source": [
    "# Data Visualization"
   ]
  },
  {
   "cell_type": "markdown",
   "metadata": {},
   "source": [
    "Here we look at the target class distribution to check for dataset imbalances"
   ]
  },
  {
   "cell_type": "code",
   "execution_count": 32,
   "metadata": {
    "collapsed": false
   },
   "outputs": [
    {
     "name": "stderr",
     "output_type": "stream",
     "text": [
      "C:\\Users\\Lucas\\Anaconda3\\lib\\site-packages\\seaborn\\categorical.py:1428: FutureWarning: remove_na is deprecated and is a private function. Do not use.\n",
      "  stat_data = remove_na(group_data)\n"
     ]
    },
    {
     "data": {
      "image/png": "[encoded data removed]",
      "text/plain": [
       "<matplotlib.figure.Figure at 0x2a991692550>"
      ]
     },
     "metadata": {},
     "output_type": "display_data"
    }
   ],
   "source": [
    "\n",
    "ax = plt.axes()\n",
    "sns.countplot(x='shot_made_flag', data=df, ax=ax);\n",
    "ax.set_title('Target class distribution')\n",
    "plt.show()"
   ]
  },
  {
   "cell_type": "markdown",
   "metadata": {},
   "source": [
    "Based on this, we can see that ouur target variable is distributed quite equally and will not require any action to deal with imbalance"
   ]
  },
  {
   "cell_type": "code",
   "execution_count": null,
   "metadata": {
    "collapsed": true
   },
   "outputs": [],
   "source": []
  }
 ],
 "metadata": {
  "anaconda-cloud": {},
  "kernelspec": {
   "display_name": "Python 3",
   "language": "python",
   "name": "python3"
  },
  "language_info": {
   "codemirror_mode": {
    "name": "ipython",
    "version": 3
   },
   "file_extension": ".py",
   "mimetype": "text/x-python",
   "name": "python",
   "nbconvert_exporter": "python",
   "pygments_lexer": "ipython3",
   "version": "3.5.4"
  }
 },
 "nbformat": 4,
 "nbformat_minor": 1
}
